{
  "cells": [
    {
      "cell_type": "code",
      "source": [
        "import json\r\n",
        "\r\n",
        "import torch\r\n",
        "import torch.nn as nn\r\n",
        "import torch.optim as optim\r\n",
        "import torch.utils.data\r\n",
        "import torch.nn.functional as F\r\n",
        "\r\n",
        "import numpy as np\r\n",
        "import pandas as pd"
      ],
      "outputs": [],
      "execution_count": 130,
      "metadata": {
        "gather": {
          "logged": 1669819904079
        }
      }
    },
    {
      "cell_type": "markdown",
      "source": [
        "# Data import"
      ],
      "metadata": {
        "nteract": {
          "transient": {
            "deleting": false
          }
        }
      }
    },
    {
      "cell_type": "code",
      "source": [
        "with open(\"example-data.json\", \"r\") as filehandle:\r\n",
        "    data = json.load(filehandle)"
      ],
      "outputs": [],
      "execution_count": 131,
      "metadata": {
        "jupyter": {
          "source_hidden": false,
          "outputs_hidden": false
        },
        "nteract": {
          "transient": {
            "deleting": false
          }
        },
        "gather": {
          "logged": 1669819905107
        }
      }
    },
    {
      "cell_type": "markdown",
      "source": [
        "# Data Parsing"
      ],
      "metadata": {
        "nteract": {
          "transient": {
            "deleting": false
          }
        }
      }
    },
    {
      "cell_type": "code",
      "source": [
        "data_parsed = [entry.replace(\", \", \",\") for entry in data]\r\n",
        "data_parsed = [entry.split(\",\") for entry in data_parsed]\r\n",
        "data_parsed = pd.DataFrame.from_dict(data_parsed)\r\n",
        "data_parsed.columns = [\"timestamp\", \"x\", \"temp\", \"humid\"]\r\n",
        "# Convert temp and humid to numeric\r\n",
        "data_parsed[\"temp\"] = data_parsed[\"temp\"].astype(float)\r\n",
        "data_parsed[\"humid\"] = data_parsed[\"humid\"].astype(float)\r\n",
        "# Last row is empty\r\n",
        "data_parsed = data_parsed[:-1]\r\n",
        "# Remove X\r\n",
        "data_parsed.drop(columns=\"x\", inplace=True)\r\n",
        "# Convert to datetime\r\n",
        "data_parsed[\"timestamp\"] = pd.to_datetime(data_parsed[\"timestamp\"])\r\n"
      ],
      "outputs": [],
      "execution_count": 132,
      "metadata": {
        "jupyter": {
          "source_hidden": false,
          "outputs_hidden": false
        },
        "nteract": {
          "transient": {
            "deleting": false
          }
        },
        "gather": {
          "logged": 1669819905327
        }
      }
    },
    {
      "cell_type": "markdown",
      "source": [
        "# Data Stats"
      ],
      "metadata": {
        "nteract": {
          "transient": {
            "deleting": false
          }
        }
      }
    },
    {
      "cell_type": "code",
      "source": [
        "# Time range\r\n",
        "print(data_parsed[\"timestamp\"].min(), data_parsed[\"timestamp\"].max())\r\n",
        "# Mean Temp per weekday\r\n",
        "print(data_parsed.groupby(\r\n",
        "    [data_parsed[\"timestamp\"].dt.weekday])[\"temp\"].mean())\r\n",
        "# Mean Humid per weekday\r\n",
        "print(data_parsed.groupby(\r\n",
        "    [data_parsed[\"timestamp\"].dt.weekday])[\"humid\"].mean())"
      ],
      "outputs": [
        {
          "output_type": "stream",
          "name": "stdout",
          "text": "2022-11-21 11:00:00 2022-11-30 11:55:50\ntimestamp\n0    18.461081\n1    18.497826\n2    18.353548\n3    18.720833\n4    18.228333\n5    17.581667\n6    16.770417\nName: temp, dtype: float64\ntimestamp\n0    57.836216\n1    56.195435\n2    55.726452\n3    56.201667\n4    56.857500\n5    58.713750\n6    58.419583\nName: humid, dtype: float64\n"
        }
      ],
      "execution_count": 133,
      "metadata": {
        "jupyter": {
          "source_hidden": false,
          "outputs_hidden": false
        },
        "nteract": {
          "transient": {
            "deleting": false
          }
        },
        "gather": {
          "logged": 1669819905660
        }
      }
    },
    {
      "cell_type": "markdown",
      "source": [
        "# Feature Enhancement"
      ],
      "metadata": {
        "nteract": {
          "transient": {
            "deleting": false
          }
        }
      }
    },
    {
      "cell_type": "code",
      "source": [
        "# Add hour\r\n",
        "data_parsed[\"hour\"] = data_parsed[\"timestamp\"].dt.hour\r\n",
        "# Add day of year\r\n",
        "data_parsed[\"day_of_year\"] = data_parsed[\"timestamp\"].dt.day_of_year\r\n",
        "# Add weekday\r\n",
        "data_parsed[\"weekday\"] = data_parsed[\"timestamp\"].dt.weekday"
      ],
      "outputs": [],
      "execution_count": 134,
      "metadata": {
        "jupyter": {
          "source_hidden": false,
          "outputs_hidden": false
        },
        "nteract": {
          "transient": {
            "deleting": false
          }
        },
        "gather": {
          "logged": 1669819906217
        }
      }
    },
    {
      "cell_type": "markdown",
      "source": [
        "# ML"
      ],
      "metadata": {
        "nteract": {
          "transient": {
            "deleting": false
          }
        }
      }
    },
    {
      "cell_type": "markdown",
      "source": [],
      "metadata": {
        "nteract": {
          "transient": {
            "deleting": false
          }
        }
      }
    },
    {
      "cell_type": "code",
      "source": [
        "class StartNet(nn.Module):\r\n",
        "\r\n",
        "    def __init__(self):\r\n",
        "        super(StartNet, self).__init__()\r\n",
        "        self.fc1 = nn.Linear(3, 9)\r\n",
        "        self.fc2 = nn.Linear(9, 1)            \r\n",
        "\r\n",
        "    def forward(self, x):\r\n",
        "        x = F.relu(self.fc1(x))\r\n",
        "        x = self.fc2(x)\r\n",
        "        return x\r\n",
        "\r\n",
        "startnet = StartNet()\r\n",
        "optimizer = optim.Adam(startnet.parameters(), lr=0.001)"
      ],
      "outputs": [],
      "execution_count": 135,
      "metadata": {
        "jupyter": {
          "source_hidden": false,
          "outputs_hidden": false
        },
        "nteract": {
          "transient": {
            "deleting": false
          }
        },
        "gather": {
          "logged": 1669819906651
        }
      }
    },
    {
      "cell_type": "code",
      "source": [
        "def training_loop(n_epochs, optimiser, model, loss_fn, train_dl, val_dl):\r\n",
        "    for epoch in range(1, n_epochs + 1):\r\n",
        "        model.train()\r\n",
        "        for i, data in enumerate(train_dl):\r\n",
        "            optimiser.zero_grad() # set gradients to zero\r\n",
        "            inputs, targets = data\r\n",
        "            output_train = model(inputs) # forwards pass\r\n",
        "            loss_train = loss_fn(output_train, targets) # calculate loss\r\n",
        "            loss_train.backward() # backwards pass\r\n",
        "            optimiser.step() # update model parameters\r\n",
        "\r\n",
        "        model.eval()\r\n",
        "        for i, data in enumerate(val_dl):\r\n",
        "            inputs, targets = data\r\n",
        "            output_val = model(inputs)\r\n",
        "            loss_val = loss_fn(output_val, targets)\r\n",
        "        if epoch == 1 or epoch % 100 == 0:\r\n",
        "            print(f\"Epoch {epoch}, Training loss {loss_train.item():.4f},\"\r\n",
        "                f\" Validation loss {loss_val.item():.4f}\")"
      ],
      "outputs": [],
      "execution_count": 136,
      "metadata": {
        "jupyter": {
          "source_hidden": false,
          "outputs_hidden": false
        },
        "nteract": {
          "transient": {
            "deleting": false
          }
        },
        "gather": {
          "logged": 1669819906897
        }
      }
    },
    {
      "cell_type": "code",
      "source": [
        "# Train Val Split\r\n",
        "train = data_parsed[0:int(len(data_parsed)/1.5)]\r\n",
        "val = data_parsed[int(len(data_parsed)/1.5):]\r\n",
        "# Full Training\r\n",
        "train = data_parsed\r\n",
        "\r\n",
        "class MyDataset(torch.utils.data.Dataset):\r\n",
        "\r\n",
        "  def __init__(self, df):\r\n",
        " \r\n",
        "    x = df[[\"hour\", \"weekday\", \"day_of_year\"]].values\r\n",
        "    y = df[[\"temp\"]].values\r\n",
        "\r\n",
        "    self.x_train=torch.tensor(x, dtype=torch.float32)\r\n",
        "    self.y_train=torch.tensor(y, dtype=torch.float32)\r\n",
        "\r\n",
        "  def __len__(self):\r\n",
        "    return len(self.y_train)\r\n",
        "  \r\n",
        "  def __getitem__(self, idx):\r\n",
        "    return self.x_train[idx], self.y_train[idx]"
      ],
      "outputs": [],
      "execution_count": 137,
      "metadata": {
        "jupyter": {
          "source_hidden": false,
          "outputs_hidden": false
        },
        "nteract": {
          "transient": {
            "deleting": false
          }
        },
        "gather": {
          "logged": 1669819907137
        }
      }
    },
    {
      "cell_type": "code",
      "source": [
        "train_dl  = torch.utils.data.DataLoader(MyDataset(train), batch_size=10, shuffle=True)\r\n",
        "val_dl    = torch.utils.data.DataLoader(MyDataset(val), batch_size=10, shuffle=True)"
      ],
      "outputs": [],
      "execution_count": 138,
      "metadata": {
        "jupyter": {
          "source_hidden": false,
          "outputs_hidden": false
        },
        "nteract": {
          "transient": {
            "deleting": false
          }
        },
        "gather": {
          "logged": 1669819907359
        }
      }
    },
    {
      "cell_type": "code",
      "source": [
        "training_loop(\r\n",
        "    n_epochs = 100, \r\n",
        "    optimiser = optimizer,\r\n",
        "    model = startnet,\r\n",
        "    loss_fn = nn.MSELoss(),\r\n",
        "    train_dl = train_dl,\r\n",
        "    val_dl = val_dl,\r\n",
        "    )"
      ],
      "outputs": [
        {
          "output_type": "stream",
          "name": "stdout",
          "text": "Epoch 1, Training loss 0.6299, Validation loss 0.5262\nEpoch 100, Training loss 0.2620, Validation loss 0.6323\n"
        }
      ],
      "execution_count": 142,
      "metadata": {
        "jupyter": {
          "source_hidden": false,
          "outputs_hidden": false
        },
        "nteract": {
          "transient": {
            "deleting": false
          }
        },
        "gather": {
          "logged": 1669819989682
        }
      }
    },
    {
      "cell_type": "code",
      "source": [
        "for name, param in startnet.named_parameters():\r\n",
        "    print(name, param)"
      ],
      "outputs": [
        {
          "output_type": "stream",
          "name": "stdout",
          "text": "fc1.weight Parameter containing:\ntensor([[ 0.1038,  0.2970,  0.0522],\n        [-0.2931,  0.2760,  0.3734],\n        [-0.3823, -0.4306, -0.5033],\n        [ 0.2253, -0.7034,  0.2356],\n        [-0.1974,  0.1462,  0.0475],\n        [ 0.4292, -0.0150,  0.2455],\n        [ 0.1653,  0.1127,  0.1410],\n        [-0.0168,  0.0673,  0.5731],\n        [-0.1152, -0.2682,  0.1771]], requires_grad=True)\nfc1.bias Parameter containing:\ntensor([ 0.4414,  0.0258, -0.1899, -0.0828,  0.0698,  0.4655, -0.3765,  0.5112,\n        -0.3861], requires_grad=True)\nfc2.weight Parameter containing:\ntensor([[ 0.0838,  0.3141,  0.1567,  0.2940, -0.1898,  0.2122, -0.2563, -0.3141,\n          0.2068]], requires_grad=True)\nfc2.bias Parameter containing:\ntensor([0.2215], requires_grad=True)\n"
        }
      ],
      "execution_count": 143,
      "metadata": {
        "jupyter": {
          "source_hidden": false,
          "outputs_hidden": false
        },
        "nteract": {
          "transient": {
            "deleting": false
          }
        },
        "gather": {
          "logged": 1669819989917
        }
      }
    },
    {
      "cell_type": "code",
      "source": [
        "startnet.eval()\r\n",
        "for i in range(12, 23):\r\n",
        "    for j in range(3, 6):\r\n",
        "        for k in range(310, 320):\r\n",
        "            print(startnet(torch.tensor([float(i), j, k])).tolist()[0])"
      ],
      "outputs": [
        {
          "output_type": "stream",
          "name": "stdout",
          "text": "16.963157653808594\n17.01757049560547\n17.071983337402344\n17.126399993896484\n17.18081283569336\n17.235218048095703\n17.289634704589844\n17.34405517578125\n17.39846420288086\n17.452884674072266\n16.731555938720703\n16.785972595214844\n16.84038543701172\n16.894794464111328\n16.949207305908203\n17.003623962402344\n17.05803680419922\n17.112457275390625\n17.16686248779297\n17.221271514892578\n16.499969482421875\n16.554378509521484\n16.608802795410156\n16.663211822509766\n16.717628479003906\n16.77203369140625\n16.82644271850586\n16.880863189697266\n16.93527603149414\n16.989688873291016\n17.013660430908203\n17.068073272705078\n17.12248992919922\n17.176895141601562\n17.231307983398438\n17.285728454589844\n17.34014129638672\n17.394554138183594\n17.44896697998047\n17.503379821777344\n16.782062530517578\n16.836475372314453\n16.89089584350586\n16.9453125\n16.999725341796875\n17.05413055419922\n17.108543395996094\n17.16295623779297\n17.217369079589844\n17.27178955078125\n16.550472259521484\n16.604877471923828\n16.659297943115234\n16.71371078491211\n16.76811981201172\n16.822532653808594\n16.87694549560547\n16.931365966796875\n16.98577117919922\n17.040191650390625\n17.064163208007812\n17.118576049804688\n17.172988891601562\n17.227401733398438\n17.281814575195312\n17.336227416992188\n17.390640258789062\n17.445053100585938\n17.499465942382812\n17.553878784179688\n16.832557678222656\n16.886978149414062\n16.94139862060547\n16.995811462402344\n17.050216674804688\n17.104637145996094\n17.159034729003906\n17.213455200195312\n17.26787567138672\n17.322288513183594\n16.600967407226562\n16.655376434326172\n16.709793090820312\n16.764209747314453\n16.818614959716797\n16.873027801513672\n16.927444458007812\n16.981857299804688\n17.036270141601562\n17.090682983398438\n17.114654541015625\n17.169071197509766\n17.223480224609375\n17.277904510498047\n17.332313537597656\n17.38672637939453\n17.441143035888672\n17.495563507080078\n17.549976348876953\n17.604381561279297\n16.883056640625\n16.93747329711914\n16.991886138916016\n17.046302795410156\n17.10071563720703\n17.155120849609375\n17.209537506103516\n17.263957977294922\n17.318370819091797\n17.37277603149414\n16.651470184326172\n16.705883026123047\n16.760295867919922\n16.814712524414062\n16.869121551513672\n16.923534393310547\n16.977954864501953\n17.032371520996094\n17.08678436279297\n17.141197204589844\n17.1651611328125\n17.219573974609375\n17.273990631103516\n17.328407287597656\n17.38282012939453\n17.437225341796875\n17.49163818359375\n17.546058654785156\n17.60047149658203\n17.654876708984375\n16.933563232421875\n16.987979888916016\n17.04239273071289\n17.09680938720703\n17.151222229003906\n17.20562744140625\n17.260040283203125\n17.31446075439453\n17.368873596191406\n17.42327880859375\n16.701961517333984\n16.75638198852539\n16.810791015625\n16.865203857421875\n16.91962432861328\n16.974037170410156\n17.02845001220703\n17.082862854003906\n17.13727569580078\n17.191680908203125\n17.215660095214844\n17.27008056640625\n17.324485778808594\n17.37890625\n17.433319091796875\n17.487728118896484\n17.542144775390625\n17.5965576171875\n17.650978088378906\n17.70538330078125\n16.98406219482422\n17.03847885131836\n17.09288787841797\n17.147300720214844\n17.201717376708984\n17.256126403808594\n17.31053924560547\n17.364959716796875\n17.419368743896484\n17.47378158569336\n16.752464294433594\n16.806880950927734\n16.861297607421875\n16.91570281982422\n16.970123291015625\n17.024532318115234\n17.078948974609375\n17.13335418701172\n17.187774658203125\n17.24219512939453\n17.266159057617188\n17.320571899414062\n17.374988555908203\n17.429397583007812\n17.48381805419922\n17.538227081298828\n17.592639923095703\n17.64706039428711\n17.701465606689453\n17.755889892578125\n17.034564971923828\n17.088977813720703\n17.143394470214844\n17.19780731201172\n17.252227783203125\n17.30663299560547\n17.361045837402344\n17.41545867919922\n17.469879150390625\n17.5242919921875\n16.802974700927734\n16.85739517211914\n16.911808013916016\n16.966217041015625\n17.0206298828125\n17.07503890991211\n17.12945556640625\n17.183868408203125\n17.23828887939453\n17.292694091796875\n17.316665649414062\n17.371078491210938\n17.425491333007812\n17.479904174804688\n17.534320831298828\n17.588729858398438\n17.643150329589844\n17.697555541992188\n17.751976013183594\n17.806381225585938\n17.085067749023438\n17.139488220214844\n17.19390106201172\n17.248313903808594\n17.30272674560547\n17.357131958007812\n17.41155242919922\n17.465965270996094\n17.52037811279297\n17.574790954589844\n16.853469848632812\n16.907882690429688\n16.962295532226562\n17.016704559326172\n17.071125030517578\n17.125534057617188\n17.179946899414062\n17.23436737060547\n17.288780212402344\n17.34319305419922\n17.367172241210938\n17.42157745361328\n17.475997924804688\n17.530410766601562\n17.584823608398438\n17.639232635498047\n17.693653106689453\n17.748058319091797\n17.802478790283203\n17.856891632080078\n17.13555908203125\n17.189979553222656\n17.24439239501953\n17.298805236816406\n17.35321044921875\n17.407634735107422\n17.462039947509766\n17.516460418701172\n17.570873260498047\n17.625293731689453\n16.903976440429688\n16.95838165283203\n17.012802124023438\n17.067211151123047\n17.121620178222656\n17.17603302001953\n17.230445861816406\n17.284862518310547\n17.339282989501953\n17.393695831298828\n17.41766357421875\n17.47208023071289\n17.5264892578125\n17.580902099609375\n17.635311126708984\n17.689727783203125\n17.74414825439453\n17.798568725585938\n17.85297393798828\n17.907386779785156\n17.186073303222656\n17.24048614501953\n17.294902801513672\n17.34931182861328\n17.403724670410156\n17.4581298828125\n17.512542724609375\n17.56696319580078\n17.621376037597656\n17.67578887939453\n16.954471588134766\n17.008888244628906\n17.06330108642578\n17.117713928222656\n17.17212677001953\n17.226539611816406\n17.28095245361328\n17.335365295410156\n17.38977813720703\n17.444190979003906\n17.468162536621094\n17.52257537841797\n17.576995849609375\n17.63140869140625\n17.68581771850586\n17.74022674560547\n17.794639587402344\n17.84906005859375\n17.903465270996094\n17.9578857421875\n17.23656463623047\n17.29098129272461\n17.345394134521484\n17.399803161621094\n17.4542236328125\n17.508628845214844\n17.56304168701172\n17.617462158203125\n17.671875\n17.726287841796875\n17.004966735839844\n17.05938720703125\n17.113792419433594\n17.168216705322266\n17.22262954711914\n17.27703857421875\n17.331443786621094\n17.3858642578125\n17.440277099609375\n17.494701385498047\n"
        }
      ],
      "execution_count": 144,
      "metadata": {
        "jupyter": {
          "source_hidden": false,
          "outputs_hidden": false
        },
        "nteract": {
          "transient": {
            "deleting": false
          }
        },
        "gather": {
          "logged": 1669819990195
        }
      }
    },
    {
      "cell_type": "code",
      "source": [
        "torch.save(startnet.state_dict(), \"startnet_temperature.model\") "
      ],
      "outputs": [],
      "execution_count": 147,
      "metadata": {
        "jupyter": {
          "source_hidden": false,
          "outputs_hidden": false
        },
        "nteract": {
          "transient": {
            "deleting": false
          }
        },
        "gather": {
          "logged": 1669820182990
        }
      }
    },
    {
      "cell_type": "code",
      "source": [],
      "outputs": [],
      "execution_count": null,
      "metadata": {
        "jupyter": {
          "source_hidden": false,
          "outputs_hidden": false
        },
        "nteract": {
          "transient": {
            "deleting": false
          }
        }
      }
    },
    {
      "cell_type": "code",
      "source": [],
      "outputs": [],
      "execution_count": null,
      "metadata": {
        "jupyter": {
          "source_hidden": false,
          "outputs_hidden": false
        },
        "nteract": {
          "transient": {
            "deleting": false
          }
        }
      }
    }
  ],
  "metadata": {
    "kernelspec": {
      "name": "python38-azureml",
      "language": "python",
      "display_name": "Python 3.8 - AzureML"
    },
    "language_info": {
      "name": "python",
      "version": "3.8.5",
      "mimetype": "text/x-python",
      "codemirror_mode": {
        "name": "ipython",
        "version": 3
      },
      "pygments_lexer": "ipython3",
      "nbconvert_exporter": "python",
      "file_extension": ".py"
    },
    "kernel_info": {
      "name": "python38-azureml"
    },
    "microsoft": {
      "host": {
        "AzureML": {
          "notebookHasBeenCompleted": true
        }
      }
    },
    "nteract": {
      "version": "nteract-front-end@1.0.0"
    }
  },
  "nbformat": 4,
  "nbformat_minor": 2
}