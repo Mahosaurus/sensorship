{
  "cells": [
    {
      "cell_type": "code",
      "source": [
        "import json\r\n",
        "\r\n",
        "import torch\r\n",
        "import torch.nn as nn\r\n",
        "import torch.optim as optim\r\n",
        "import torch.utils.data\r\n",
        "import torch.nn.functional as F\r\n",
        "\r\n",
        "import numpy as np\r\n",
        "import pandas as pd"
      ],
      "outputs": [],
      "execution_count": 1,
      "metadata": {
        "gather": {
          "logged": 1669800659281
        }
      }
    },
    {
      "cell_type": "markdown",
      "source": [
        "# Data import"
      ],
      "metadata": {
        "nteract": {
          "transient": {
            "deleting": false
          }
        }
      }
    },
    {
      "cell_type": "code",
      "source": [
        "with open(\"example-data.json\", \"r\") as filehandle:\r\n",
        "    data = json.load(filehandle)"
      ],
      "outputs": [],
      "execution_count": 2,
      "metadata": {
        "jupyter": {
          "source_hidden": false,
          "outputs_hidden": false
        },
        "nteract": {
          "transient": {
            "deleting": false
          }
        },
        "gather": {
          "logged": 1669800659467
        }
      }
    },
    {
      "cell_type": "markdown",
      "source": [
        "# Data Parsing"
      ],
      "metadata": {
        "nteract": {
          "transient": {
            "deleting": false
          }
        }
      }
    },
    {
      "cell_type": "code",
      "source": [
        "data_parsed = [entry.replace(\", \", \",\") for entry in data]\r\n",
        "data_parsed = [entry.split(\",\") for entry in data_parsed]\r\n",
        "data_parsed = pd.DataFrame.from_dict(data_parsed)\r\n",
        "data_parsed.columns = [\"timestamp\", \"x\", \"temp\", \"humid\"]\r\n",
        "# Convert temp and humid to numeric\r\n",
        "data_parsed[\"temp\"] = data_parsed[\"temp\"].astype(float)\r\n",
        "data_parsed[\"humid\"] = data_parsed[\"humid\"].astype(float)\r\n",
        "# Last row is empty\r\n",
        "data_parsed = data_parsed[:-1]\r\n",
        "# Remove X\r\n",
        "data_parsed.drop(columns=\"x\", inplace=True)\r\n",
        "# Convert to datetime\r\n",
        "data_parsed[\"timestamp\"] = pd.to_datetime(data_parsed[\"timestamp\"])\r\n"
      ],
      "outputs": [],
      "execution_count": 3,
      "metadata": {
        "jupyter": {
          "source_hidden": false,
          "outputs_hidden": false
        },
        "nteract": {
          "transient": {
            "deleting": false
          }
        },
        "gather": {
          "logged": 1669800659660
        }
      }
    },
    {
      "cell_type": "markdown",
      "source": [
        "# Data Stats"
      ],
      "metadata": {
        "nteract": {
          "transient": {
            "deleting": false
          }
        }
      }
    },
    {
      "cell_type": "code",
      "source": [
        "# Time range\r\n",
        "print(data_parsed[\"timestamp\"].min(), data_parsed[\"timestamp\"].max())\r\n",
        "# Mean Temp per weekday\r\n",
        "print(data_parsed.groupby(\r\n",
        "    [data_parsed[\"timestamp\"].dt.weekday])[\"temp\"].mean())\r\n",
        "# Mean Humid per weekday\r\n",
        "print(data_parsed.groupby(\r\n",
        "    [data_parsed[\"timestamp\"].dt.weekday])[\"humid\"].mean())"
      ],
      "outputs": [
        {
          "output_type": "stream",
          "name": "stdout",
          "text": "2022-11-21 11:00:00 2022-11-29 07:00:00\ntimestamp\n0    18.461081\n1    18.409063\n2    18.484167\n3    18.720833\n4    18.228333\n5    17.581667\n6    16.770417\nName: temp, dtype: float64\ntimestamp\n0    57.836216\n1    55.476250\n2    54.791250\n3    56.201667\n4    56.857500\n5    58.713750\n6    58.419583\nName: humid, dtype: float64\n"
        }
      ],
      "execution_count": 4,
      "metadata": {
        "jupyter": {
          "source_hidden": false,
          "outputs_hidden": false
        },
        "nteract": {
          "transient": {
            "deleting": false
          }
        },
        "gather": {
          "logged": 1669800659835
        }
      }
    },
    {
      "cell_type": "markdown",
      "source": [
        "# Feature Enhancement"
      ],
      "metadata": {
        "nteract": {
          "transient": {
            "deleting": false
          }
        }
      }
    },
    {
      "cell_type": "code",
      "source": [
        "# Add hour\r\n",
        "data_parsed[\"hour\"] = data_parsed[\"timestamp\"].dt.hour\r\n",
        "# Add day of year\r\n",
        "data_parsed[\"day_of_year\"] = data_parsed[\"timestamp\"].dt.day_of_year\r\n",
        "# Add weekday\r\n",
        "data_parsed[\"weekday\"] = data_parsed[\"timestamp\"].dt.weekday"
      ],
      "outputs": [],
      "execution_count": 5,
      "metadata": {
        "jupyter": {
          "source_hidden": false,
          "outputs_hidden": false
        },
        "nteract": {
          "transient": {
            "deleting": false
          }
        },
        "gather": {
          "logged": 1669800659983
        }
      }
    },
    {
      "cell_type": "markdown",
      "source": [
        "# ML"
      ],
      "metadata": {
        "nteract": {
          "transient": {
            "deleting": false
          }
        }
      }
    },
    {
      "cell_type": "markdown",
      "source": [],
      "metadata": {
        "nteract": {
          "transient": {
            "deleting": false
          }
        }
      }
    },
    {
      "cell_type": "code",
      "source": [
        "def training_loop(n_epochs, optimiser, model, loss_fn, train_dl, val_dl):\r\n",
        "    for epoch in range(1, n_epochs + 1):\r\n",
        "        model.train()\r\n",
        "        for i, data in enumerate(train_dl):\r\n",
        "            optimiser.zero_grad() # set gradients to zero\r\n",
        "            inputs, targets = data\r\n",
        "            output_train = model(inputs) # forwards pass\r\n",
        "            loss_train = loss_fn(output_train, targets) # calculate loss\r\n",
        "            loss_train.backward() # backwards pass\r\n",
        "            optimiser.step() # update model parameters\r\n",
        "\r\n",
        "        model.eval()\r\n",
        "        for i, data in enumerate(val_dl):\r\n",
        "            inputs, targets = data\r\n",
        "            output_val = model(inputs)\r\n",
        "            loss_val = loss_fn(output_val, targets)\r\n",
        "        if epoch == 1 or epoch % 100 == 0:\r\n",
        "            print(f\"Epoch {epoch}, Training loss {loss_train.item():.4f},\"\r\n",
        "                f\" Validation loss {loss_val.item():.4f}\")"
      ],
      "outputs": [],
      "execution_count": 6,
      "metadata": {
        "jupyter": {
          "source_hidden": false,
          "outputs_hidden": false
        },
        "nteract": {
          "transient": {
            "deleting": false
          }
        },
        "gather": {
          "logged": 1669800660141
        }
      }
    },
    {
      "cell_type": "code",
      "source": [
        "class StartNet(nn.Module):\r\n",
        "\r\n",
        "    def __init__(self):\r\n",
        "        super(StartNet, self).__init__()\r\n",
        "        self.model = nn.Sequential(\r\n",
        "            nn.Linear(3, 15),\r\n",
        "            nn.ReLU(),\r\n",
        "            nn.Linear(15, 1))\r\n",
        "\r\n",
        "    def forward(self, x):\r\n",
        "        x = self.model(x)\r\n",
        "        return x\r\n",
        "\r\n",
        "startnet = StartNet()\r\n",
        "optimizer = optim.Adam(startnet.parameters(), lr=0.001)"
      ],
      "outputs": [],
      "execution_count": 7,
      "metadata": {
        "jupyter": {
          "source_hidden": false,
          "outputs_hidden": false
        },
        "nteract": {
          "transient": {
            "deleting": false
          }
        },
        "gather": {
          "logged": 1669800660311
        }
      }
    },
    {
      "cell_type": "code",
      "source": [
        "# Train Val Split\r\n",
        "train = data_parsed[0:int(len(data_parsed)/1.5)]\r\n",
        "val = data_parsed[int(len(data_parsed)/1.5):]\r\n",
        "# Full Training\r\n",
        "train = data_parsed\r\n",
        "\r\n",
        "class MyDataset(torch.utils.data.Dataset):\r\n",
        "\r\n",
        "  def __init__(self, df):\r\n",
        " \r\n",
        "    x = df[[\"hour\", \"weekday\", \"day_of_year\"]].values\r\n",
        "    y = df[[\"temp\"]].values\r\n",
        "\r\n",
        "    self.x_train=torch.tensor(x, dtype=torch.float32)\r\n",
        "    self.y_train=torch.tensor(y, dtype=torch.float32)\r\n",
        "\r\n",
        "  def __len__(self):\r\n",
        "    return len(self.y_train)\r\n",
        "  \r\n",
        "  def __getitem__(self, idx):\r\n",
        "    return self.x_train[idx], self.y_train[idx]"
      ],
      "outputs": [],
      "execution_count": 8,
      "metadata": {
        "jupyter": {
          "source_hidden": false,
          "outputs_hidden": false
        },
        "nteract": {
          "transient": {
            "deleting": false
          }
        },
        "gather": {
          "logged": 1669800660492
        }
      }
    },
    {
      "cell_type": "code",
      "source": [
        "train_dl  = torch.utils.data.DataLoader(MyDataset(train), batch_size=10, shuffle=False)\r\n",
        "val_dl    = torch.utils.data.DataLoader(MyDataset(val), batch_size=10, shuffle=False)"
      ],
      "outputs": [],
      "execution_count": 9,
      "metadata": {
        "jupyter": {
          "source_hidden": false,
          "outputs_hidden": false
        },
        "nteract": {
          "transient": {
            "deleting": false
          }
        },
        "gather": {
          "logged": 1669800660631
        }
      }
    },
    {
      "cell_type": "code",
      "source": [
        "training_loop(\r\n",
        "    n_epochs = 700, \r\n",
        "    optimiser = optimizer,\r\n",
        "    model = startnet,\r\n",
        "    loss_fn = nn.MSELoss(),\r\n",
        "    train_dl = train_dl,\r\n",
        "    val_dl = val_dl,\r\n",
        "    )"
      ],
      "outputs": [
        {
          "output_type": "stream",
          "name": "stdout",
          "text": "Epoch 1, Training loss 2.0649, Validation loss 2.2547\nEpoch 100, Training loss 1.9485, Validation loss 2.2322\nEpoch 200, Training loss 1.7902, Validation loss 2.1652\nEpoch 300, Training loss 1.7415, Validation loss 2.1415\nEpoch 400, Training loss 1.7457, Validation loss 2.1607\nEpoch 500, Training loss 1.8906, Validation loss 2.3163\nEpoch 600, Training loss 1.8170, Validation loss 2.1674\nEpoch 700, Training loss 1.3048, Validation loss 1.5797\n"
        }
      ],
      "execution_count": 13,
      "metadata": {
        "jupyter": {
          "source_hidden": false,
          "outputs_hidden": false
        },
        "nteract": {
          "transient": {
            "deleting": false
          }
        },
        "gather": {
          "logged": 1669800808429
        }
      }
    },
    {
      "cell_type": "code",
      "source": [
        "startnet.eval()\r\n",
        "a = startnet(torch.tensor([15.0, 6.0, 330]))\r\n",
        "print(round(a.tolist()[0]))"
      ],
      "outputs": [
        {
          "output_type": "stream",
          "name": "stdout",
          "text": "16\n"
        }
      ],
      "execution_count": 15,
      "metadata": {
        "jupyter": {
          "source_hidden": false,
          "outputs_hidden": false
        },
        "nteract": {
          "transient": {
            "deleting": false
          }
        },
        "gather": {
          "logged": 1669800831762
        }
      }
    },
    {
      "cell_type": "code",
      "source": [
        "torch.save(startnet.state_dict(), \"startnet.model\") "
      ],
      "outputs": [],
      "execution_count": 16,
      "metadata": {
        "jupyter": {
          "source_hidden": false,
          "outputs_hidden": false
        },
        "nteract": {
          "transient": {
            "deleting": false
          }
        },
        "gather": {
          "logged": 1669800863060
        }
      }
    },
    {
      "cell_type": "code",
      "source": [],
      "outputs": [],
      "execution_count": null,
      "metadata": {
        "jupyter": {
          "source_hidden": false,
          "outputs_hidden": false
        },
        "nteract": {
          "transient": {
            "deleting": false
          }
        }
      }
    }
  ],
  "metadata": {
    "kernelspec": {
      "name": "python38-azureml",
      "language": "python",
      "display_name": "Python 3.8 - AzureML"
    },
    "language_info": {
      "name": "python",
      "version": "3.8.5",
      "mimetype": "text/x-python",
      "codemirror_mode": {
        "name": "ipython",
        "version": 3
      },
      "pygments_lexer": "ipython3",
      "nbconvert_exporter": "python",
      "file_extension": ".py"
    },
    "kernel_info": {
      "name": "python38-azureml"
    },
    "microsoft": {
      "host": {
        "AzureML": {
          "notebookHasBeenCompleted": true
        }
      }
    },
    "nteract": {
      "version": "nteract-front-end@1.0.0"
    }
  },
  "nbformat": 4,
  "nbformat_minor": 2
}