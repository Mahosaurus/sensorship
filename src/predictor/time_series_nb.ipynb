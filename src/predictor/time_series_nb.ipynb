{
  "cells": [
    {
      "cell_type": "code",
      "execution_count": 1,
      "metadata": {
        "gather": {
          "logged": 1669705248982
        }
      },
      "outputs": [],
      "source": [
        "import json\n",
        "\n",
        "import torch\n",
        "import torch.nn as nn\n",
        "import torch.optim as optim\n",
        "import torch.utils.data\n",
        "import torch.nn.functional as F\n",
        "\n",
        "import numpy as np\n",
        "import pandas as pd"
      ]
    },
    {
      "cell_type": "markdown",
      "metadata": {
        "nteract": {
          "transient": {
            "deleting": false
          }
        }
      },
      "source": [
        "# Data import"
      ]
    },
    {
      "cell_type": "code",
      "execution_count": 4,
      "metadata": {
        "gather": {
          "logged": 1669705256416
        },
        "jupyter": {
          "outputs_hidden": false,
          "source_hidden": false
        },
        "nteract": {
          "transient": {
            "deleting": false
          }
        }
      },
      "outputs": [],
      "source": [
        "with open(\"text-data.json\", \"r\") as filehandle:\n",
        "    data = json.load(filehandle)"
      ]
    },
    {
      "cell_type": "markdown",
      "metadata": {
        "nteract": {
          "transient": {
            "deleting": false
          }
        }
      },
      "source": [
        "# Data Parsing"
      ]
    },
    {
      "cell_type": "code",
      "execution_count": 5,
      "metadata": {
        "gather": {
          "logged": 1669705257281
        },
        "jupyter": {
          "outputs_hidden": false,
          "source_hidden": false
        },
        "nteract": {
          "transient": {
            "deleting": false
          }
        }
      },
      "outputs": [],
      "source": [
        "data_parsed = [entry.replace(\", \", \",\") for entry in data]\n",
        "data_parsed = [entry.split(\",\") for entry in data_parsed]\n",
        "data_parsed = pd.DataFrame.from_dict(data_parsed)\n",
        "data_parsed.columns = [\"timestamp\", \"x\", \"temp\", \"humid\"]\n",
        "# Convert temp and humid to numeric\n",
        "data_parsed[\"temp\"] = data_parsed[\"temp\"].astype(float)\n",
        "data_parsed[\"humid\"] = data_parsed[\"humid\"].astype(float)\n",
        "# Last row is empty\n",
        "data_parsed = data_parsed[:-1]\n",
        "# Remove X\n",
        "data_parsed.drop(columns=\"x\", inplace=True)\n",
        "# Convert to datetime\n",
        "data_parsed[\"timestamp\"] = pd.to_datetime(data_parsed[\"timestamp\"])\n"
      ]
    },
    {
      "cell_type": "markdown",
      "metadata": {
        "nteract": {
          "transient": {
            "deleting": false
          }
        }
      },
      "source": [
        "# Data Stats"
      ]
    },
    {
      "cell_type": "code",
      "execution_count": null,
      "metadata": {
        "gather": {
          "logged": 1669705258427
        },
        "jupyter": {
          "outputs_hidden": false,
          "source_hidden": false
        },
        "nteract": {
          "transient": {
            "deleting": false
          }
        }
      },
      "outputs": [],
      "source": [
        "# Time range\n",
        "print(data_parsed[\"timestamp\"].min(), data_parsed[\"timestamp\"].max())\n",
        "# Mean Temp per weekday\n",
        "print(data_parsed.groupby(\n",
        "    [data_parsed[\"timestamp\"].dt.weekday])[\"temp\"].mean())\n",
        "# Mean Humid per weekday\n",
        "print(data_parsed.groupby(\n",
        "    [data_parsed[\"timestamp\"].dt.weekday])[\"humid\"].mean())"
      ]
    },
    {
      "cell_type": "markdown",
      "metadata": {
        "nteract": {
          "transient": {
            "deleting": false
          }
        }
      },
      "source": [
        "# Feature Enhancement"
      ]
    },
    {
      "cell_type": "code",
      "execution_count": 497,
      "metadata": {
        "gather": {
          "logged": 1669722444772
        },
        "jupyter": {
          "outputs_hidden": false,
          "source_hidden": false
        },
        "nteract": {
          "transient": {
            "deleting": false
          }
        }
      },
      "outputs": [],
      "source": [
        "# Add hour\n",
        "data_parsed[\"hour\"] = data_parsed[\"timestamp\"].dt.hour\n",
        "# Add day of year\n",
        "data_parsed[\"day_of_year\"] = data_parsed[\"timestamp\"].dt.day_of_year\n",
        "# Add weekday\n",
        "data_parsed[\"weekday\"] = data_parsed[\"timestamp\"].dt.weekday"
      ]
    },
    {
      "cell_type": "markdown",
      "metadata": {
        "nteract": {
          "transient": {
            "deleting": false
          }
        }
      },
      "source": [
        "# ML"
      ]
    },
    {
      "cell_type": "markdown",
      "metadata": {
        "nteract": {
          "transient": {
            "deleting": false
          }
        }
      },
      "source": []
    },
    {
      "cell_type": "code",
      "execution_count": null,
      "metadata": {},
      "outputs": [],
      "source": [
        "class StartNet(nn.Module):\n",
        "\n",
        "    def __init__(self):\n",
        "        super(StartNet, self).__init__()\n",
        "        self.model = nn.Sequential(\n",
        "            nn.Linear(3, 15),\n",
        "            nn.ReLU(),\n",
        "            nn.Linear(15, 1))\n",
        "\n",
        "    def forward(self, x):\n",
        "        x = self.model(x)\n",
        "        return x"
      ]
    },
    {
      "cell_type": "code",
      "execution_count": null,
      "metadata": {},
      "outputs": [],
      "source": [
        "class MyDataset(torch.utils.data.Dataset):\n",
        "\n",
        "  def __init__(self, df):\n",
        " \n",
        "    x = df[[\"hour\", \"weekday\", \"day_of_year\"]].values\n",
        "    y = df[[\"temp\"]].values\n",
        "\n",
        "    self.x_train=torch.tensor(x, dtype=torch.float32)\n",
        "    self.y_train=torch.tensor(y, dtype=torch.float32)\n",
        "\n",
        "  def __len__(self):\n",
        "    return len(self.y_train)\n",
        "  \n",
        "  def __getitem__(self, idx):\n",
        "    return self.x_train[idx], self.y_train[idx]"
      ]
    },
    {
      "cell_type": "code",
      "execution_count": 498,
      "metadata": {
        "gather": {
          "logged": 1669722445755
        },
        "jupyter": {
          "outputs_hidden": false,
          "source_hidden": false
        },
        "nteract": {
          "transient": {
            "deleting": false
          }
        }
      },
      "outputs": [],
      "source": [
        "def training_loop(n_epochs, optimiser, model, loss_fn, train_dl, val_dl):\n",
        "    for epoch in range(1, n_epochs + 1):\n",
        "        model.train()\n",
        "        for i, data in enumerate(train_dl):\n",
        "            optimiser.zero_grad() # set gradients to zero\n",
        "            inputs, targets = data\n",
        "            output_train = model(inputs) # forwards pass\n",
        "            loss_train = loss_fn(output_train, targets) # calculate loss\n",
        "            loss_train.backward() # backwards pass\n",
        "            optimiser.step() # update model parameters\n",
        "\n",
        "        model.eval()\n",
        "        for i, data in enumerate(val_dl):\n",
        "            inputs, targets = data\n",
        "            output_val = model(inputs)\n",
        "            loss_val = loss_fn(output_val, targets)\n",
        "        if epoch == 1 or epoch % 100 == 0:\n",
        "            print(f\"Epoch {epoch}, Training loss {loss_train.item():.4f},\"\n",
        "                f\" Validation loss {loss_val.item():.4f}\")"
      ]
    },
    {
      "cell_type": "code",
      "execution_count": 499,
      "metadata": {
        "gather": {
          "logged": 1669722446107
        },
        "jupyter": {
          "outputs_hidden": false,
          "source_hidden": false
        },
        "nteract": {
          "transient": {
            "deleting": false
          }
        }
      },
      "outputs": [],
      "source": [
        "startnet = StartNet()\n",
        "optimizer = optim.Adam(startnet.parameters(), lr=0.001)"
      ]
    },
    {
      "cell_type": "code",
      "execution_count": 500,
      "metadata": {
        "gather": {
          "logged": 1669722446496
        },
        "jupyter": {
          "outputs_hidden": false,
          "source_hidden": false
        },
        "nteract": {
          "transient": {
            "deleting": false
          }
        }
      },
      "outputs": [],
      "source": [
        "# Train Val Split\n",
        "train = data_parsed[0:int(len(data_parsed)/1.5)]\n",
        "val = data_parsed[int(len(data_parsed)/1.5):]"
      ]
    },
    {
      "cell_type": "code",
      "execution_count": 501,
      "metadata": {
        "gather": {
          "logged": 1669722446827
        },
        "jupyter": {
          "outputs_hidden": false,
          "source_hidden": false
        },
        "nteract": {
          "transient": {
            "deleting": false
          }
        }
      },
      "outputs": [],
      "source": [
        "train_dl  = torch.utils.data.DataLoader(MyDataset(train), batch_size=10, shuffle=False)\n",
        "val_dl    = torch.utils.data.DataLoader(MyDataset(val), batch_size=10, shuffle=False)"
      ]
    },
    {
      "cell_type": "code",
      "execution_count": 502,
      "metadata": {
        "gather": {
          "logged": 1669722456946
        },
        "jupyter": {
          "outputs_hidden": false,
          "source_hidden": false
        },
        "nteract": {
          "transient": {
            "deleting": false
          }
        }
      },
      "outputs": [
        {
          "name": "stdout",
          "output_type": "stream",
          "text": [
            "Epoch 1, Training loss 2.5529, Validation loss 0.2576\n",
            "Epoch 100, Training loss 0.7277, Validation loss 2.7463\n",
            "Epoch 200, Training loss 0.7324, Validation loss 3.1789\n",
            "Epoch 300, Training loss 0.7045, Validation loss 3.2853\n",
            "Epoch 400, Training loss 0.6785, Validation loss 3.2429\n",
            "Epoch 500, Training loss 0.6549, Validation loss 3.1821\n",
            "Epoch 600, Training loss 0.6320, Validation loss 3.1198\n",
            "Epoch 700, Training loss 0.6111, Validation loss 3.0603\n"
          ]
        }
      ],
      "source": [
        "training_loop(\n",
        "    n_epochs = 700, \n",
        "    optimiser = optimizer,\n",
        "    model = startnet,\n",
        "    loss_fn = nn.MSELoss(),\n",
        "    train_dl = train_dl,\n",
        "    val_dl = val_dl,\n",
        "    )"
      ]
    },
    {
      "cell_type": "code",
      "execution_count": 506,
      "metadata": {
        "gather": {
          "logged": 1669722481004
        },
        "jupyter": {
          "outputs_hidden": false,
          "source_hidden": false
        },
        "nteract": {
          "transient": {
            "deleting": false
          }
        }
      },
      "outputs": [
        {
          "data": {
            "text/plain": [
              "tensor([16.5288], grad_fn=<AddBackward0>)"
            ]
          },
          "execution_count": 506,
          "metadata": {},
          "output_type": "execute_result"
        }
      ],
      "source": [
        "startnet.eval()\n",
        "startnet(torch.tensor([15.0, 6, 300]))"
      ]
    },
    {
      "cell_type": "code",
      "execution_count": 508,
      "metadata": {
        "gather": {
          "logged": 1669722611180
        },
        "jupyter": {
          "outputs_hidden": false,
          "source_hidden": false
        },
        "nteract": {
          "transient": {
            "deleting": false
          }
        }
      },
      "outputs": [],
      "source": [
        "torch.save(startnet, \"startnet.model\") "
      ]
    },
    {
      "cell_type": "code",
      "execution_count": null,
      "metadata": {
        "jupyter": {
          "outputs_hidden": false,
          "source_hidden": false
        },
        "nteract": {
          "transient": {
            "deleting": false
          }
        }
      },
      "outputs": [],
      "source": []
    },
    {
      "cell_type": "code",
      "execution_count": null,
      "metadata": {
        "jupyter": {
          "outputs_hidden": false,
          "source_hidden": false
        },
        "nteract": {
          "transient": {
            "deleting": false
          }
        }
      },
      "outputs": [],
      "source": []
    }
  ],
  "metadata": {
    "kernel_info": {
      "name": "python38-azureml"
    },
    "kernelspec": {
      "display_name": "Python 3.9.15 ('venv': venv)",
      "language": "python",
      "name": "python3"
    },
    "language_info": {
      "codemirror_mode": {
        "name": "ipython",
        "version": 3
      },
      "file_extension": ".py",
      "mimetype": "text/x-python",
      "name": "python",
      "nbconvert_exporter": "python",
      "pygments_lexer": "ipython3",
      "version": "3.9.15"
    },
    "microsoft": {
      "host": {
        "AzureML": {
          "notebookHasBeenCompleted": true
        }
      }
    },
    "nteract": {
      "version": "nteract-front-end@1.0.0"
    },
    "vscode": {
      "interpreter": {
        "hash": "b60eb0fbd88de65ade0550082371f8f02f64584ee2f827d9ada46ef9a84e527a"
      }
    }
  },
  "nbformat": 4,
  "nbformat_minor": 2
}
