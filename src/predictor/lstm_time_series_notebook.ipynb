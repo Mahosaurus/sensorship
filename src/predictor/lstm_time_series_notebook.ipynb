{
  "cells": [
    {
      "cell_type": "code",
      "source": [
        "import json\r\n",
        "\r\n",
        "import torch\r\n",
        "from torch.autograd import Variable\r\n",
        "import torch.nn as nn\r\n",
        "import torch.optim as optim\r\n",
        "import torch.utils.data\r\n",
        "import torch.nn.functional as F\r\n",
        "\r\n",
        "import numpy as np\r\n",
        "import pandas as pd\r\n",
        "from sklearn.preprocessing import MinMaxScaler\r\n",
        "\r\n",
        "\r\n",
        "import matplotlib.pyplot as plt"
      ],
      "outputs": [],
      "execution_count": null,
      "metadata": {
        "gather": {
          "logged": 1669906024915
        }
      }
    },
    {
      "cell_type": "markdown",
      "source": [
        "# Data import"
      ],
      "metadata": {
        "nteract": {
          "transient": {
            "deleting": false
          }
        }
      }
    },
    {
      "cell_type": "code",
      "source": [
        "with open(\"example-data.json\", \"r\") as filehandle:\r\n",
        "    data = json.load(filehandle)"
      ],
      "outputs": [],
      "execution_count": null,
      "metadata": {
        "jupyter": {
          "source_hidden": false,
          "outputs_hidden": false
        },
        "nteract": {
          "transient": {
            "deleting": false
          }
        },
        "gather": {
          "logged": 1669906025172
        }
      }
    },
    {
      "cell_type": "markdown",
      "source": [
        "# Data Parsing"
      ],
      "metadata": {
        "nteract": {
          "transient": {
            "deleting": false
          }
        }
      }
    },
    {
      "cell_type": "code",
      "source": [
        "data_parsed = [entry.replace(\", \", \",\") for entry in data]\r\n",
        "data_parsed = [entry.split(\",\") for entry in data_parsed]\r\n",
        "data_parsed = pd.DataFrame.from_dict(data_parsed)\r\n",
        "data_parsed.columns = [\"timestamp\", \"x\", \"temp\", \"humid\"]\r\n",
        "# Convert temp and humid to numeric\r\n",
        "data_parsed[\"temp\"] = data_parsed[\"temp\"].astype(float)\r\n",
        "data_parsed[\"humid\"] = data_parsed[\"humid\"].astype(float)\r\n",
        "# Last row is empty\r\n",
        "data_parsed = data_parsed[:-1]\r\n",
        "# Remove X\r\n",
        "data_parsed.drop(columns=\"x\", inplace=True)\r\n",
        "# Convert to datetime\r\n",
        "data_parsed[\"timestamp\"] = pd.to_datetime(data_parsed[\"timestamp\"])\r\n"
      ],
      "outputs": [],
      "execution_count": null,
      "metadata": {
        "jupyter": {
          "source_hidden": false,
          "outputs_hidden": false
        },
        "nteract": {
          "transient": {
            "deleting": false
          }
        },
        "gather": {
          "logged": 1669906025395
        }
      }
    },
    {
      "cell_type": "code",
      "source": [
        "training_set = data_parsed.iloc[:,1:2].values\r\n",
        "\r\n",
        "plt.plot(training_set, label = 'Temperature')\r\n",
        "plt.show()\r\n"
      ],
      "outputs": [],
      "execution_count": null,
      "metadata": {
        "jupyter": {
          "source_hidden": false,
          "outputs_hidden": false
        },
        "nteract": {
          "transient": {
            "deleting": false
          }
        },
        "gather": {
          "logged": 1669906025649
        }
      }
    },
    {
      "cell_type": "markdown",
      "source": [
        "# Sliding Windows"
      ],
      "metadata": {
        "nteract": {
          "transient": {
            "deleting": false
          }
        }
      }
    },
    {
      "cell_type": "code",
      "source": [
        "def sliding_windows(data, seq_length):\r\n",
        "    x = []\r\n",
        "    y = []\r\n",
        "\r\n",
        "    for i in range(len(data)-seq_length-1):\r\n",
        "        _x = data[i:(i+seq_length)]\r\n",
        "        _y = data[i+seq_length]\r\n",
        "        x.append(_x)\r\n",
        "        y.append(_y)\r\n",
        "\r\n",
        "    return np.array(x),np.array(y)\r\n",
        "\r\n",
        "sc = MinMaxScaler()\r\n",
        "training_data = sc.fit_transform(training_set)\r\n",
        "\r\n",
        "seq_length = 4\r\n",
        "x, y = sliding_windows(training_data, seq_length)\r\n",
        "\r\n",
        "train_size = int(len(y) * 0.67)\r\n",
        "test_size = len(y) - train_size\r\n",
        "\r\n",
        "dataX = Variable(torch.Tensor(np.array(x)))\r\n",
        "dataY = Variable(torch.Tensor(np.array(y)))\r\n",
        "\r\n",
        "trainX = Variable(torch.Tensor(np.array(x[0:train_size])))\r\n",
        "trainY = Variable(torch.Tensor(np.array(y[0:train_size])))\r\n",
        "\r\n",
        "testX = Variable(torch.Tensor(np.array(x[train_size:len(x)])))\r\n",
        "testY = Variable(torch.Tensor(np.array(y[train_size:len(y)])))"
      ],
      "outputs": [],
      "execution_count": null,
      "metadata": {
        "jupyter": {
          "source_hidden": false,
          "outputs_hidden": false
        },
        "nteract": {
          "transient": {
            "deleting": false
          }
        },
        "gather": {
          "logged": 1669906025845
        }
      }
    },
    {
      "cell_type": "code",
      "source": [
        "training_set"
      ],
      "outputs": [],
      "execution_count": null,
      "metadata": {
        "jupyter": {
          "source_hidden": false,
          "outputs_hidden": false
        },
        "nteract": {
          "transient": {
            "deleting": false
          }
        },
        "gather": {
          "logged": 1669906026072
        }
      }
    },
    {
      "cell_type": "markdown",
      "source": [
        "# ML"
      ],
      "metadata": {
        "nteract": {
          "transient": {
            "deleting": false
          }
        }
      }
    },
    {
      "cell_type": "markdown",
      "source": [],
      "metadata": {
        "nteract": {
          "transient": {
            "deleting": false
          }
        }
      }
    },
    {
      "cell_type": "code",
      "source": [
        "class LSTMModel(nn.Module):\r\n",
        "\r\n",
        "    def __init__(self, num_classes=1, input_size=1, hidden_size=4, num_layers=1):\r\n",
        "        super(LSTMModel, self).__init__()\r\n",
        "        \r\n",
        "        self.num_classes = num_classes\r\n",
        "        self.num_layers = num_layers\r\n",
        "        self.input_size = input_size\r\n",
        "        self.hidden_size = hidden_size\r\n",
        "        self.seq_length = seq_length\r\n",
        "        \r\n",
        "        self.lstm = nn.LSTM(input_size=input_size, hidden_size=hidden_size,\r\n",
        "                            num_layers=num_layers, batch_first=True)\r\n",
        "        self.dropout = nn.Dropout1d(p=0.1)\r\n",
        "        \r\n",
        "        self.fc = nn.Linear(hidden_size, num_classes)\r\n",
        "\r\n",
        "    def forward(self, x):\r\n",
        "        # Initializing hidden state for first input with zeros\r\n",
        "        h0 = torch.zeros(self.num_layers, x.size(0), self.hidden_size).requires_grad_()\r\n",
        "        # Initializing cell state for first input with zeros\r\n",
        "        c0 = torch.zeros(self.num_layers, x.size(0), self.hidden_size).requires_grad_()\r\n",
        "        \r\n",
        "        out, (hn, cn) = self.lstm(x, (h0.detach(), c0.detach()))\r\n",
        "\r\n",
        "        # Reshaping the outputs in the shape of (batch_size, seq_length, hidden_size)\r\n",
        "        # so that it can fit into the fully connected layer\r\n",
        "        out = out[:, -1, :]\r\n",
        "        out = self.dropout(out)\r\n",
        "        # Convert the final state to our desired output shape (batch_size, output_dim)\r\n",
        "        out = self.fc(out)\r\n",
        "\r\n",
        "        return out"
      ],
      "outputs": [],
      "execution_count": null,
      "metadata": {
        "jupyter": {
          "source_hidden": false,
          "outputs_hidden": false
        },
        "nteract": {
          "transient": {
            "deleting": false
          }
        },
        "gather": {
          "logged": 1669906026267
        }
      }
    },
    {
      "cell_type": "code",
      "source": [
        "num_epochs = 2000\r\n",
        "learning_rate = 0.01\r\n",
        "\r\n",
        "input_size = 1\r\n",
        "hidden_size = 4\r\n",
        "num_layers = 1\r\n",
        "num_classes = 1\r\n",
        "\r\n",
        "model = LSTMModel(num_classes, input_size, hidden_size, num_layers)\r\n",
        "\r\n",
        "criterion = torch.nn.MSELoss()    # mean-squared error for regression\r\n",
        "optimizer = torch.optim.Adam(model.parameters(), lr=learning_rate)"
      ],
      "outputs": [],
      "execution_count": null,
      "metadata": {
        "jupyter": {
          "source_hidden": false,
          "outputs_hidden": false
        },
        "nteract": {
          "transient": {
            "deleting": false
          }
        },
        "gather": {
          "logged": 1669906026444
        }
      }
    },
    {
      "cell_type": "code",
      "source": [
        "# Train the model\r\n",
        "for epoch in range(num_epochs):\r\n",
        "    model.train()\r\n",
        "    outputs = model(trainX)\r\n",
        "    optimizer.zero_grad()\r\n",
        "    # obtain the loss function\r\n",
        "    loss = criterion(outputs, trainY)\r\n",
        "    \r\n",
        "    loss.backward()\r\n",
        "    \r\n",
        "    optimizer.step()\r\n",
        "    if epoch % 1000 == 0:\r\n",
        "      print(\"Epoch: %d, loss: %1.5f\" % (epoch, loss.item()))"
      ],
      "outputs": [],
      "execution_count": null,
      "metadata": {
        "jupyter": {
          "source_hidden": false,
          "outputs_hidden": false
        },
        "nteract": {
          "transient": {
            "deleting": false
          }
        },
        "gather": {
          "logged": 1669906032046
        }
      }
    },
    {
      "cell_type": "code",
      "source": [
        "model.eval()\r\n",
        "train_predict = model(dataX)\r\n",
        "\r\n",
        "data_predict = train_predict.data.numpy()\r\n",
        "dataY_plot = dataY.data.numpy()\r\n",
        "\r\n",
        "data_predict = sc.inverse_transform(data_predict)\r\n",
        "dataY_plot = sc.inverse_transform(dataY_plot)\r\n",
        "\r\n",
        "plt.axvline(x=train_size, c='r', linestyle='--')\r\n",
        "\r\n",
        "plt.plot(dataY_plot)\r\n",
        "plt.plot(data_predict)\r\n",
        "plt.suptitle('Time-Series Prediction')\r\n",
        "plt.show()\r\n",
        "\r\n"
      ],
      "outputs": [],
      "execution_count": null,
      "metadata": {
        "jupyter": {
          "source_hidden": false,
          "outputs_hidden": false
        },
        "nteract": {
          "transient": {
            "deleting": false
          }
        },
        "gather": {
          "logged": 1669906032315
        }
      }
    },
    {
      "cell_type": "code",
      "source": [
        "torch.save(model.state_dict(), \"temperature_lstm.model\") "
      ],
      "outputs": [],
      "execution_count": null,
      "metadata": {
        "jupyter": {
          "source_hidden": false,
          "outputs_hidden": false
        },
        "nteract": {
          "transient": {
            "deleting": false
          }
        },
        "gather": {
          "logged": 1669906032500
        }
      }
    },
    {
      "cell_type": "code",
      "source": [
        "new_model = LSTMModel()\r\n"
      ],
      "outputs": [],
      "execution_count": null,
      "metadata": {
        "jupyter": {
          "source_hidden": false,
          "outputs_hidden": false
        },
        "nteract": {
          "transient": {
            "deleting": false
          }
        },
        "gather": {
          "logged": 1669906032678
        }
      }
    },
    {
      "cell_type": "code",
      "source": [
        "new_model.eval()\r\n",
        "train_predict = new_model(dataX)\r\n",
        "\r\n",
        "data_predict = train_predict.data.numpy()\r\n",
        "dataY_plot = dataY.data.numpy()\r\n",
        "\r\n",
        "data_predict = sc.inverse_transform(data_predict)\r\n",
        "dataY_plot = sc.inverse_transform(dataY_plot)\r\n",
        "\r\n",
        "plt.axvline(x=train_size, c='r', linestyle='--')\r\n",
        "\r\n",
        "plt.plot(dataY_plot)\r\n",
        "plt.plot(data_predict)\r\n",
        "plt.suptitle('Time-Series Prediction')\r\n",
        "plt.show()"
      ],
      "outputs": [],
      "execution_count": null,
      "metadata": {
        "jupyter": {
          "source_hidden": false,
          "outputs_hidden": false
        },
        "nteract": {
          "transient": {
            "deleting": false
          }
        },
        "gather": {
          "logged": 1669906032872
        }
      }
    },
    {
      "cell_type": "code",
      "source": [
        "new_model.load_state_dict(torch.load(\"temperature_lstm.model\"))"
      ],
      "outputs": [],
      "execution_count": null,
      "metadata": {
        "jupyter": {
          "source_hidden": false,
          "outputs_hidden": false
        },
        "nteract": {
          "transient": {
            "deleting": false
          }
        },
        "gather": {
          "logged": 1669906033058
        }
      }
    },
    {
      "cell_type": "code",
      "source": [
        "new_model.eval()\r\n",
        "train_predict = new_model(dataX)\r\n",
        "\r\n",
        "data_predict = train_predict.data.numpy()\r\n",
        "dataY_plot = dataY.data.numpy()\r\n",
        "\r\n",
        "data_predict = sc.inverse_transform(data_predict)\r\n",
        "dataY_plot = sc.inverse_transform(dataY_plot)\r\n",
        "\r\n",
        "plt.axvline(x=train_size, c='r', linestyle='--')\r\n",
        "\r\n",
        "plt.plot(dataY_plot)\r\n",
        "plt.plot(data_predict)\r\n",
        "plt.suptitle('Time-Series Prediction')\r\n",
        "plt.show()"
      ],
      "outputs": [],
      "execution_count": null,
      "metadata": {
        "jupyter": {
          "source_hidden": false,
          "outputs_hidden": false
        },
        "nteract": {
          "transient": {
            "deleting": false
          }
        },
        "gather": {
          "logged": 1669906033270
        }
      }
    },
    {
      "cell_type": "code",
      "source": [],
      "outputs": [],
      "execution_count": null,
      "metadata": {
        "jupyter": {
          "source_hidden": false,
          "outputs_hidden": false
        },
        "nteract": {
          "transient": {
            "deleting": false
          }
        }
      }
    },
    {
      "cell_type": "code",
      "source": [],
      "outputs": [],
      "execution_count": null,
      "metadata": {
        "jupyter": {
          "source_hidden": false,
          "outputs_hidden": false
        },
        "nteract": {
          "transient": {
            "deleting": false
          }
        }
      }
    }
  ],
  "metadata": {
    "kernelspec": {
      "name": "python38-azureml",
      "language": "python",
      "display_name": "Python 3.8 - AzureML"
    },
    "language_info": {
      "name": "python",
      "version": "3.8.5",
      "mimetype": "text/x-python",
      "codemirror_mode": {
        "name": "ipython",
        "version": 3
      },
      "pygments_lexer": "ipython3",
      "nbconvert_exporter": "python",
      "file_extension": ".py"
    },
    "kernel_info": {
      "name": "python38-azureml"
    },
    "microsoft": {
      "host": {
        "AzureML": {
          "notebookHasBeenCompleted": true
        }
      }
    },
    "nteract": {
      "version": "nteract-front-end@1.0.0"
    }
  },
  "nbformat": 4,
  "nbformat_minor": 2
}