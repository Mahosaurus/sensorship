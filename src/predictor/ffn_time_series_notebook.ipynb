{
  "cells": [
    {
      "cell_type": "code",
      "source": [
        "import json\r\n",
        "\r\n",
        "import torch\r\n",
        "import torch.nn as nn\r\n",
        "import torch.optim as optim\r\n",
        "import torch.utils.data\r\n",
        "import torch.nn.functional as F\r\n",
        "\r\n",
        "import numpy as np\r\n",
        "import pandas as pd"
      ],
      "outputs": [],
      "execution_count": null,
      "metadata": {
        "gather": {
          "logged": 1669905980500
        }
      }
    },
    {
      "cell_type": "markdown",
      "source": [
        "# Data import"
      ],
      "metadata": {
        "nteract": {
          "transient": {
            "deleting": false
          }
        }
      }
    },
    {
      "cell_type": "code",
      "source": [
        "with open(\"example-data.json\", \"r\") as filehandle:\r\n",
        "    data = json.load(filehandle)"
      ],
      "outputs": [],
      "execution_count": null,
      "metadata": {
        "jupyter": {
          "source_hidden": false,
          "outputs_hidden": false
        },
        "nteract": {
          "transient": {
            "deleting": false
          }
        },
        "gather": {
          "logged": 1669905980766
        }
      }
    },
    {
      "cell_type": "markdown",
      "source": [
        "# Data Parsing"
      ],
      "metadata": {
        "nteract": {
          "transient": {
            "deleting": false
          }
        }
      }
    },
    {
      "cell_type": "code",
      "source": [
        "data_parsed = [entry.replace(\", \", \",\") for entry in data]\r\n",
        "data_parsed = [entry.split(\",\") for entry in data_parsed]\r\n",
        "data_parsed = pd.DataFrame.from_dict(data_parsed)\r\n",
        "data_parsed.columns = [\"timestamp\", \"x\", \"temp\", \"humid\"]\r\n",
        "# Convert temp and humid to numeric\r\n",
        "data_parsed[\"temp\"] = data_parsed[\"temp\"].astype(float)\r\n",
        "data_parsed[\"humid\"] = data_parsed[\"humid\"].astype(float)\r\n",
        "# Last row is empty\r\n",
        "data_parsed = data_parsed[:-1]\r\n",
        "# Remove X\r\n",
        "data_parsed.drop(columns=\"x\", inplace=True)\r\n",
        "# Convert to datetime\r\n",
        "data_parsed[\"timestamp\"] = pd.to_datetime(data_parsed[\"timestamp\"])\r\n"
      ],
      "outputs": [],
      "execution_count": null,
      "metadata": {
        "jupyter": {
          "source_hidden": false,
          "outputs_hidden": false
        },
        "nteract": {
          "transient": {
            "deleting": false
          }
        },
        "gather": {
          "logged": 1669905980988
        }
      }
    },
    {
      "cell_type": "markdown",
      "source": [
        "# Data Stats"
      ],
      "metadata": {
        "nteract": {
          "transient": {
            "deleting": false
          }
        }
      }
    },
    {
      "cell_type": "code",
      "source": [
        "# Time range\r\n",
        "print(data_parsed[\"timestamp\"].min(), data_parsed[\"timestamp\"].max())\r\n",
        "# Mean Temp per weekday\r\n",
        "print(data_parsed.groupby(\r\n",
        "    [data_parsed[\"timestamp\"].dt.weekday])[\"temp\"].mean())\r\n",
        "# Mean Humid per weekday\r\n",
        "print(data_parsed.groupby(\r\n",
        "    [data_parsed[\"timestamp\"].dt.weekday])[\"humid\"].mean())"
      ],
      "outputs": [],
      "execution_count": null,
      "metadata": {
        "jupyter": {
          "source_hidden": false,
          "outputs_hidden": false
        },
        "nteract": {
          "transient": {
            "deleting": false
          }
        },
        "gather": {
          "logged": 1669905981220
        }
      }
    },
    {
      "cell_type": "markdown",
      "source": [
        "# Feature Enhancement"
      ],
      "metadata": {
        "nteract": {
          "transient": {
            "deleting": false
          }
        }
      }
    },
    {
      "cell_type": "code",
      "source": [
        "# Add hour\r\n",
        "data_parsed[\"hour\"] = data_parsed[\"timestamp\"].dt.hour\r\n",
        "# Add day of year\r\n",
        "data_parsed[\"day_of_year\"] = data_parsed[\"timestamp\"].dt.day_of_year\r\n",
        "# Add weekday\r\n",
        "data_parsed[\"weekday\"] = data_parsed[\"timestamp\"].dt.weekday"
      ],
      "outputs": [],
      "execution_count": null,
      "metadata": {
        "jupyter": {
          "source_hidden": false,
          "outputs_hidden": false
        },
        "nteract": {
          "transient": {
            "deleting": false
          }
        },
        "gather": {
          "logged": 1669905981423
        }
      }
    },
    {
      "cell_type": "markdown",
      "source": [
        "# ML"
      ],
      "metadata": {
        "nteract": {
          "transient": {
            "deleting": false
          }
        }
      }
    },
    {
      "cell_type": "markdown",
      "source": [],
      "metadata": {
        "nteract": {
          "transient": {
            "deleting": false
          }
        }
      }
    },
    {
      "cell_type": "code",
      "source": [
        "class FFNModel(nn.Module):\r\n",
        "\r\n",
        "    def __init__(self):\r\n",
        "        super(FFNModel, self).__init__()\r\n",
        "        self.fc1 = nn.Linear(3, 9)\r\n",
        "        self.fc2 = nn.Linear(9, 1)            \r\n",
        "\r\n",
        "    def forward(self, x):\r\n",
        "        x = F.relu(self.fc1(x))\r\n",
        "        x = self.fc2(x)\r\n",
        "        return x\r\n",
        "\r\n",
        "startnet = FFNModel()\r\n",
        "optimizer = optim.Adam(startnet.parameters(), lr=0.001)"
      ],
      "outputs": [],
      "execution_count": null,
      "metadata": {
        "jupyter": {
          "source_hidden": false,
          "outputs_hidden": false
        },
        "nteract": {
          "transient": {
            "deleting": false
          }
        },
        "gather": {
          "logged": 1669905981617
        }
      }
    },
    {
      "cell_type": "code",
      "source": [
        "def training_loop(n_epochs, optimiser, model, loss_fn, train_dl, val_dl):\r\n",
        "    for epoch in range(1, n_epochs + 1):\r\n",
        "        model.train()\r\n",
        "        for i, data in enumerate(train_dl):\r\n",
        "            optimiser.zero_grad() # set gradients to zero\r\n",
        "            inputs, targets = data\r\n",
        "            output_train = model(inputs) # forwards pass\r\n",
        "            loss_train = loss_fn(output_train, targets) # calculate loss\r\n",
        "            loss_train.backward() # backwards pass\r\n",
        "            optimiser.step() # update model parameters\r\n",
        "\r\n",
        "        model.eval()\r\n",
        "        for i, data in enumerate(val_dl):\r\n",
        "            inputs, targets = data\r\n",
        "            output_val = model(inputs)\r\n",
        "            loss_val = loss_fn(output_val, targets)\r\n",
        "        if epoch == 1 or epoch % 100 == 0:\r\n",
        "            print(f\"Epoch {epoch}, Training loss {loss_train.item():.4f},\"\r\n",
        "                f\" Validation loss {loss_val.item():.4f}\")"
      ],
      "outputs": [],
      "execution_count": null,
      "metadata": {
        "jupyter": {
          "source_hidden": false,
          "outputs_hidden": false
        },
        "nteract": {
          "transient": {
            "deleting": false
          }
        },
        "gather": {
          "logged": 1669905981827
        }
      }
    },
    {
      "cell_type": "code",
      "source": [
        "# Train Val Split\r\n",
        "train = data_parsed[0:int(len(data_parsed)/1.5)]\r\n",
        "val = data_parsed[int(len(data_parsed)/1.5):]\r\n",
        "# Full Training\r\n",
        "train = data_parsed\r\n",
        "\r\n",
        "class MyDataset(torch.utils.data.Dataset):\r\n",
        "\r\n",
        "  def __init__(self, df):\r\n",
        " \r\n",
        "    x = df[[\"hour\", \"weekday\", \"day_of_year\"]].values\r\n",
        "    y = df[[\"temp\"]].values\r\n",
        "\r\n",
        "    self.x_train=torch.tensor(x, dtype=torch.float32)\r\n",
        "    self.y_train=torch.tensor(y, dtype=torch.float32)\r\n",
        "\r\n",
        "  def __len__(self):\r\n",
        "    return len(self.y_train)\r\n",
        "  \r\n",
        "  def __getitem__(self, idx):\r\n",
        "    return self.x_train[idx], self.y_train[idx]"
      ],
      "outputs": [],
      "execution_count": null,
      "metadata": {
        "jupyter": {
          "source_hidden": false,
          "outputs_hidden": false
        },
        "nteract": {
          "transient": {
            "deleting": false
          }
        },
        "gather": {
          "logged": 1669905982046
        }
      }
    },
    {
      "cell_type": "code",
      "source": [
        "train_dl  = torch.utils.data.DataLoader(MyDataset(train), batch_size=10, shuffle=True)\r\n",
        "val_dl    = torch.utils.data.DataLoader(MyDataset(val), batch_size=10, shuffle=True)"
      ],
      "outputs": [],
      "execution_count": null,
      "metadata": {
        "jupyter": {
          "source_hidden": false,
          "outputs_hidden": false
        },
        "nteract": {
          "transient": {
            "deleting": false
          }
        },
        "gather": {
          "logged": 1669905982248
        }
      }
    },
    {
      "cell_type": "code",
      "source": [
        "training_loop(\r\n",
        "    n_epochs = 100, \r\n",
        "    optimiser = optimizer,\r\n",
        "    model = startnet,\r\n",
        "    loss_fn = nn.MSELoss(),\r\n",
        "    train_dl = train_dl,\r\n",
        "    val_dl = val_dl,\r\n",
        "    )"
      ],
      "outputs": [],
      "execution_count": null,
      "metadata": {
        "jupyter": {
          "source_hidden": false,
          "outputs_hidden": false
        },
        "nteract": {
          "transient": {
            "deleting": false
          }
        },
        "gather": {
          "logged": 1669905983508
        }
      }
    },
    {
      "cell_type": "code",
      "source": [
        "for name, param in startnet.named_parameters():\r\n",
        "    print(name, param)"
      ],
      "outputs": [],
      "execution_count": null,
      "metadata": {
        "jupyter": {
          "source_hidden": false,
          "outputs_hidden": false
        },
        "nteract": {
          "transient": {
            "deleting": false
          }
        },
        "gather": {
          "logged": 1669905983701
        }
      }
    },
    {
      "cell_type": "code",
      "source": [
        "startnet.eval()\r\n",
        "for i in range(12, 23):\r\n",
        "    for j in range(3, 6):\r\n",
        "        for k in range(310, 320):\r\n",
        "            print(startnet(torch.tensor([float(i), j, k])).tolist()[0])"
      ],
      "outputs": [],
      "execution_count": null,
      "metadata": {
        "jupyter": {
          "source_hidden": false,
          "outputs_hidden": false
        },
        "nteract": {
          "transient": {
            "deleting": false
          }
        },
        "gather": {
          "logged": 1669905983902
        }
      }
    },
    {
      "cell_type": "code",
      "source": [
        "torch.save(startnet.state_dict(), \"temperature_fnn.model\") "
      ],
      "outputs": [],
      "execution_count": null,
      "metadata": {
        "jupyter": {
          "source_hidden": false,
          "outputs_hidden": false
        },
        "nteract": {
          "transient": {
            "deleting": false
          }
        },
        "gather": {
          "logged": 1669905984095
        }
      }
    },
    {
      "cell_type": "code",
      "source": [],
      "outputs": [],
      "execution_count": null,
      "metadata": {
        "jupyter": {
          "source_hidden": false,
          "outputs_hidden": false
        },
        "nteract": {
          "transient": {
            "deleting": false
          }
        }
      }
    }
  ],
  "metadata": {
    "kernelspec": {
      "name": "python38-azureml",
      "language": "python",
      "display_name": "Python 3.8 - AzureML"
    },
    "language_info": {
      "name": "python",
      "version": "3.8.5",
      "mimetype": "text/x-python",
      "codemirror_mode": {
        "name": "ipython",
        "version": 3
      },
      "pygments_lexer": "ipython3",
      "nbconvert_exporter": "python",
      "file_extension": ".py"
    },
    "kernel_info": {
      "name": "python38-azureml"
    },
    "microsoft": {
      "host": {
        "AzureML": {
          "notebookHasBeenCompleted": true
        }
      }
    },
    "nteract": {
      "version": "nteract-front-end@1.0.0"
    }
  },
  "nbformat": 4,
  "nbformat_minor": 2
}