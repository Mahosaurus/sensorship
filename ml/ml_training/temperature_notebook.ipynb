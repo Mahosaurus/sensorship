{
  "cells": [
    {
      "cell_type": "code",
      "execution_count": null,
      "metadata": {
        "gather": {
          "logged": 1669906024915
        }
      },
      "outputs": [],
      "source": [
        "import matplotlib.pyplot as plt\n",
        "import numpy as np\n",
        "from sklearn.preprocessing import MinMaxScaler\n",
        "\n",
        "import torch\n",
        "from torch.autograd import Variable\n",
        "import torch.utils.data\n",
        "\n",
        "from src.data_handling.io_interaction import read_as_pandas_from_disk\n",
        "from src.utils.helpers import parse_data_for_ml"
      ]
    },
    {
      "attachments": {},
      "cell_type": "markdown",
      "metadata": {
        "nteract": {
          "transient": {
            "deleting": false
          }
        }
      },
      "source": [
        "# Data import and parsing"
      ]
    },
    {
      "cell_type": "code",
      "execution_count": null,
      "metadata": {
        "gather": {
          "logged": 1669906025172
        },
        "jupyter": {
          "outputs_hidden": false,
          "source_hidden": false
        },
        "nteract": {
          "transient": {
            "deleting": false
          }
        }
      },
      "outputs": [],
      "source": [
        "data = read_as_pandas_from_disk(\"./data/training-data.txt\")\n",
        "data_parsed = parse_data_for_ml(data)"
      ]
    },
    {
      "cell_type": "code",
      "execution_count": null,
      "metadata": {
        "gather": {
          "logged": 1669906025649
        },
        "jupyter": {
          "outputs_hidden": false,
          "source_hidden": false
        },
        "nteract": {
          "transient": {
            "deleting": false
          }
        }
      },
      "outputs": [],
      "source": [
        "training_set = data_parsed.iloc[:,1:2].values\n",
        "plt.plot(training_set, label = 'Temperature')\n",
        "plt.show()"
      ]
    },
    {
      "cell_type": "markdown",
      "metadata": {},
      "source": [
        "## Smoothing the data"
      ]
    },
    {
      "cell_type": "code",
      "execution_count": null,
      "metadata": {},
      "outputs": [],
      "source": [
        "# Data should be smoothed before training\n",
        "# We will use a moving average to smooth the data\n",
        "# We will use a window of x timesteps\n",
        "moving_average_window = 1\n",
        "moving_average = np.convolve(training_set[:,0], np.ones(moving_average_window)/moving_average_window, mode='same')\n",
        "# Bring into same format as training_set (maybe remove later, check with sliding window algo)\n",
        "moving_average = moving_average.reshape(-1,1)"
      ]
    },
    {
      "cell_type": "code",
      "execution_count": null,
      "metadata": {},
      "outputs": [],
      "source": [
        "# Plot the training set and the moving average on four different points in time\n",
        "# Increase size of plot\n",
        "plt.rcParams['figure.figsize'] = [12, 8]\n",
        "plt.subplot(2, 2, 1)\n",
        "plt.plot(training_set[0:100], label = 'Temperature')\n",
        "plt.plot(moving_average[0:100], label = 'Temperature', color='red')\n",
        "plt.subplot(2, 2, 2)\n",
        "plt.plot(training_set[1000:1100], label = 'Temperature')\n",
        "plt.plot(moving_average[1000:1100], label = 'Temperature', color='red')\n",
        "plt.subplot(2, 2, 3)\n",
        "plt.plot(training_set[2000:2100], label = 'Temperature')\n",
        "plt.plot(moving_average[2000:2100], label = 'Temperature', color='red')\n",
        "plt.subplot(2, 2, 4)\n",
        "plt.plot(training_set[len(training_set)-500:len(training_set)], label = 'Temperature')\n",
        "plt.plot(moving_average[len(training_set)-500:len(training_set)], label = 'Temperature', color='red')\n",
        "plt.show()\n"
      ]
    },
    {
      "cell_type": "code",
      "execution_count": null,
      "metadata": {},
      "outputs": [],
      "source": [
        "training_set = moving_average"
      ]
    },
    {
      "cell_type": "markdown",
      "metadata": {
        "nteract": {
          "transient": {
            "deleting": false
          }
        }
      },
      "source": [
        "# Sliding Windows"
      ]
    },
    {
      "cell_type": "code",
      "execution_count": null,
      "metadata": {
        "gather": {
          "logged": 1669906025845
        },
        "jupyter": {
          "outputs_hidden": false,
          "source_hidden": false
        },
        "nteract": {
          "transient": {
            "deleting": false
          }
        }
      },
      "outputs": [],
      "source": [
        "def sliding_windows(data, seq_length):\n",
        "    x = []\n",
        "    y = []\n",
        "\n",
        "    for i in range(len(data)-2*seq_length-1):\n",
        "        _x = data[i:(i+seq_length)]\n",
        "        _y = data[i+seq_length:i+seq_length*2].reshape(-1, 1)\n",
        "        x.append(_x)\n",
        "        y.append(_y.reshape(1,-1)[0])\n",
        "\n",
        "    return np.array(x), np.array(y)\n",
        "\n",
        "sc = MinMaxScaler()\n",
        "training_data = sc.fit_transform(training_set)\n",
        "\n",
        "seq_length = 24\n",
        "x, y = sliding_windows(training_data, seq_length)\n",
        "\n",
        "train_size = int(len(y) * 0.9)\n",
        "test_size = len(y) - train_size\n",
        "dataX = Variable(torch.Tensor(np.array(x)))\n",
        "dataY = Variable(torch.Tensor(np.array(y)))\n",
        "\n",
        "trainX = Variable(torch.Tensor(np.array(x[0:train_size])))\n",
        "trainY = Variable(torch.Tensor(np.array(y[0:train_size])))\n",
        "\n",
        "testX = Variable(torch.Tensor(np.array(x[train_size:len(x)])))\n",
        "testY = Variable(torch.Tensor(np.array(y[train_size:len(y)])))"
      ]
    },
    {
      "cell_type": "markdown",
      "metadata": {},
      "source": [
        "# Save minmax scaler"
      ]
    },
    {
      "cell_type": "code",
      "execution_count": null,
      "metadata": {},
      "outputs": [],
      "source": [
        "import joblib\n",
        "joblib.dump(sc, 'temperature_preproc.joblib')"
      ]
    },
    {
      "cell_type": "markdown",
      "metadata": {
        "nteract": {
          "transient": {
            "deleting": false
          }
        }
      },
      "source": [
        "# ML"
      ]
    },
    {
      "cell_type": "code",
      "execution_count": null,
      "metadata": {
        "gather": {
          "logged": 1669906026267
        },
        "jupyter": {
          "outputs_hidden": false,
          "source_hidden": false
        },
        "nteract": {
          "transient": {
            "deleting": false
          }
        }
      },
      "outputs": [],
      "source": [
        "from temperature_lstm_model import LSTMModel"
      ]
    },
    {
      "cell_type": "code",
      "execution_count": null,
      "metadata": {
        "gather": {
          "logged": 1669906026444
        },
        "jupyter": {
          "outputs_hidden": false,
          "source_hidden": false
        },
        "nteract": {
          "transient": {
            "deleting": false
          }
        }
      },
      "outputs": [],
      "source": [
        "num_epochs = 1500\n",
        "learning_rate = 0.01\n",
        "\n",
        "model = LSTMModel(len(trainX[0]))\n",
        "\n",
        "criterion = torch.nn.MSELoss()    # mean-squared error for regression\n",
        "optimizer = torch.optim.Adam(model.parameters(), lr=learning_rate)"
      ]
    },
    {
      "cell_type": "code",
      "execution_count": null,
      "metadata": {},
      "outputs": [],
      "source": [
        "# Prepare for mini-batching, using PyTorch's DataLoader\n",
        "import torch\n",
        "from torch.utils.data import Dataset\n",
        "\n",
        "class CustomDataset(Dataset):\n",
        "    def __init__(self, data, targets):\n",
        "        self.data = data\n",
        "        self.targets = targets\n",
        "\n",
        "    def __len__(self):\n",
        "        return len(self.data)\n",
        "\n",
        "    def __getitem__(self, index):\n",
        "        x = self.data[index]\n",
        "        y = self.targets[index]\n",
        "        return x, y\n",
        "\n",
        "from torch.utils.data import DataLoader\n",
        "\n",
        "# Assuming you have 'data' and 'targets' as your input and target data, respectively.\n",
        "dataset = CustomDataset(trainX, trainY)\n",
        "batch_size = 1000  # You can set your desired batch size here.\n",
        "data_loader = DataLoader(dataset, batch_size=batch_size, shuffle=True)"
      ]
    },
    {
      "cell_type": "code",
      "execution_count": null,
      "metadata": {
        "gather": {
          "logged": 1669906032046
        },
        "jupyter": {
          "outputs_hidden": false,
          "source_hidden": false
        },
        "nteract": {
          "transient": {
            "deleting": false
          }
        }
      },
      "outputs": [],
      "source": [
        "# Train the model\n",
        "for epoch in range(200):\n",
        "    for batch_x, batch_y in data_loader:\n",
        "        optimizer.zero_grad()\n",
        "        outputs = model(batch_x)\n",
        "\n",
        "        # obtain the loss function\n",
        "        loss = criterion(outputs, batch_y)\n",
        "        loss.backward()\n",
        "        \n",
        "        optimizer.step()\n",
        "    if epoch % 25 == 0:\n",
        "        print(\"Epoch: %d, loss: %1.5f\" % (epoch, loss.item()))\n",
        "   "
      ]
    },
    {
      "attachments": {},
      "cell_type": "markdown",
      "metadata": {},
      "source": [
        "#### Testing that it does different things with different input"
      ]
    },
    {
      "cell_type": "markdown",
      "metadata": {},
      "source": [
        "##### One-step ahead Prediction (does not work well!)"
      ]
    },
    {
      "cell_type": "code",
      "execution_count": null,
      "metadata": {},
      "outputs": [],
      "source": [
        "from collections import deque\n",
        "\n",
        "# Switch mode to evaluation\n",
        "model.eval()\n",
        "\n",
        "# Build up history by taking one slice of j last observations\n",
        "j = 24\n",
        "base_tensor = dataX[j:j+1]\n",
        "base_list = base_tensor.data.numpy().tolist()[0]\n",
        "\n",
        "# Set up deque-like cache (FIFO)\n",
        "cache = deque([], maxlen=24)\n",
        "for value in base_list:\n",
        "    cache.append(value)\n",
        "\n",
        "# Predict them one-step ahead\n",
        "for i in range(24):\n",
        "    prediction = model(torch.Tensor([cache]))\n",
        "    # Update cache for new prediction\n",
        "    cache.append([prediction[0][0].item()])\n",
        "\n",
        "predictions = sc.inverse_transform(np.array(cache).reshape(-1, 1))\n",
        "\n",
        "pre_prediction_values = sc.inverse_transform(np.array([np.mean(base_list) for x in predictions]).reshape(-1, 1))\n",
        "predicted_values = np.concatenate((pre_prediction_values, np.array(predictions).reshape(-1, 1)))\n",
        "plt.plot(predicted_values, c='r')\n",
        "\n",
        "# True values\n",
        "# Base slice on which predictions are made on\n",
        "base_values = sc.inverse_transform(dataY[j].data.numpy().reshape(-1, 1))\n",
        "# j*2 because j is the length of one slice and we want to check history\n",
        "to_predict_values = sc.inverse_transform(dataY[j*2].data.numpy().reshape(-1, 1))\n",
        "true_values = np.concatenate((base_values, to_predict_values))\n",
        "\n",
        "plt.plot(true_values, c='b')\n",
        "plt.rcParams['figure.figsize'] = [4, 4]\n",
        "plt.show()"
      ]
    },
    {
      "attachments": {},
      "cell_type": "markdown",
      "metadata": {},
      "source": [
        "##### Multi-step (not one-step ahead) Prediction"
      ]
    },
    {
      "cell_type": "code",
      "execution_count": null,
      "metadata": {},
      "outputs": [],
      "source": [
        "from collections import deque\n",
        "\n",
        "# Switch mode to evaluation\n",
        "model.eval()\n",
        "\n",
        "# Build up history by taking one slice of j last observations\n",
        "j = 24\n",
        "base_tensor = dataX[j:j+1]\n",
        "\n",
        "# Predict them all at once\n",
        "prediction = model(torch.Tensor(base_tensor))\n",
        "\n",
        "predictions = [sc.inverse_transform([[val.item()]])[0][0] for val in prediction[0]]\n",
        "\n",
        "pre_prediction_values = sc.inverse_transform(np.array([np.mean(cache) for x in predictions]).reshape(-1, 1))\n",
        "predicted_values = np.concatenate((pre_prediction_values, np.array(predictions).reshape(-1, 1)))\n",
        "plt.plot(predicted_values, c='r')\n",
        "\n",
        "# True values\n",
        "# Base slice on which predictions are made on\n",
        "base_values = sc.inverse_transform(dataY[j].data.numpy().reshape(-1, 1))\n",
        "# j*2 because j is the length of one slice and we want to check history\n",
        "to_predict_values = sc.inverse_transform(dataY[j*2].data.numpy().reshape(-1, 1))\n",
        "true_values = np.concatenate((base_values, to_predict_values))\n",
        "\n",
        "plt.plot(true_values, c='b')\n",
        "plt.rcParams['figure.figsize'] = [8, 4]\n",
        "plt.show()"
      ]
    },
    {
      "attachments": {},
      "cell_type": "markdown",
      "metadata": {},
      "source": [
        "##### Nice illustrative chart for train/test performance"
      ]
    },
    {
      "cell_type": "code",
      "execution_count": null,
      "metadata": {
        "gather": {
          "logged": 1669906032315
        },
        "jupyter": {
          "outputs_hidden": false,
          "source_hidden": false
        },
        "nteract": {
          "transient": {
            "deleting": false
          }
        }
      },
      "outputs": [],
      "source": [
        "model.eval()\n",
        "train_predict = model(dataX)\n",
        "\n",
        "data_predict = train_predict.data.numpy()\n",
        "dataY_plot = dataY.data.numpy()\n",
        "\n",
        "data_predict = sc.inverse_transform(data_predict)\n",
        "dataY_plot = sc.inverse_transform(dataY_plot)\n",
        "\n",
        "plt.axvline(x=train_size, c='r', linestyle='--')\n",
        "\n",
        "plt.plot(dataY_plot)\n",
        "plt.plot(data_predict)\n",
        "plt.suptitle('Time-Series Prediction')\n",
        "plt.show()"
      ]
    },
    {
      "cell_type": "code",
      "execution_count": null,
      "metadata": {
        "gather": {
          "logged": 1669906032500
        },
        "jupyter": {
          "outputs_hidden": false,
          "source_hidden": false
        },
        "nteract": {
          "transient": {
            "deleting": false
          }
        }
      },
      "outputs": [],
      "source": [
        "torch.save(model.state_dict(), \"temperature_lstm.model\") "
      ]
    },
    {
      "cell_type": "code",
      "execution_count": null,
      "metadata": {
        "gather": {
          "logged": 1669906032678
        },
        "jupyter": {
          "outputs_hidden": false,
          "source_hidden": false
        },
        "nteract": {
          "transient": {
            "deleting": false
          }
        }
      },
      "outputs": [],
      "source": [
        "new_model = LSTMModel()"
      ]
    },
    {
      "cell_type": "code",
      "execution_count": null,
      "metadata": {
        "gather": {
          "logged": 1669906033058
        },
        "jupyter": {
          "outputs_hidden": false,
          "source_hidden": false
        },
        "nteract": {
          "transient": {
            "deleting": false
          }
        }
      },
      "outputs": [],
      "source": [
        "new_model.load_state_dict(torch.load(\"temperature_lstm.model\"))"
      ]
    },
    {
      "cell_type": "code",
      "execution_count": null,
      "metadata": {
        "gather": {
          "logged": 1669906033270
        },
        "jupyter": {
          "outputs_hidden": false,
          "source_hidden": false
        },
        "nteract": {
          "transient": {
            "deleting": false
          }
        }
      },
      "outputs": [],
      "source": [
        "new_model.eval()\n",
        "train_predict = new_model(dataX)\n",
        "\n",
        "data_predict = train_predict.data.numpy()\n",
        "dataY_plot = dataY.data.numpy()\n",
        "\n",
        "data_predict = sc.inverse_transform(data_predict)\n",
        "dataY_plot = sc.inverse_transform(dataY_plot)\n",
        "\n",
        "#plt.axvline(x=train_size, c='r', linestyle='--')\n",
        "\n",
        "plt.plot(dataY_plot[:,0][3000:3024], c='b', label='Actual')\n",
        "plt.plot(data_predict[:,0][3000:3024], c='r', label='Predicted')\n",
        "plt.suptitle('Time-Series Prediction')\n",
        "plt.legend()\n",
        "plt.show()"
      ]
    }
  ],
  "metadata": {
    "kernel_info": {
      "name": "python38-azureml"
    },
    "kernelspec": {
      "display_name": "venv_sensor",
      "language": "python",
      "name": "python3"
    },
    "language_info": {
      "codemirror_mode": {
        "name": "ipython",
        "version": 3
      },
      "file_extension": ".py",
      "mimetype": "text/x-python",
      "name": "python",
      "nbconvert_exporter": "python",
      "pygments_lexer": "ipython3",
      "version": "3.9.12"
    },
    "microsoft": {
      "host": {
        "AzureML": {
          "notebookHasBeenCompleted": true
        }
      }
    },
    "nteract": {
      "version": "nteract-front-end@1.0.0"
    },
    "vscode": {
      "interpreter": {
        "hash": "a2b66a645cef0bf2a408640b0a5b77dc6dfb43acca1fe19e27f6565a2090f409"
      }
    }
  },
  "nbformat": 4,
  "nbformat_minor": 2
}
